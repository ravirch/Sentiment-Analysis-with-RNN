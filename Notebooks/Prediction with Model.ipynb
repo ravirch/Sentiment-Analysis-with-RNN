{
 "cells": [
  {
   "cell_type": "code",
   "execution_count": 1,
   "metadata": {},
   "outputs": [],
   "source": [
    "# Step 1: Import Libraries and Load the Model\n",
    "import numpy as np\n",
    "import tensorflow as tf\n",
    "from tensorflow.keras.datasets import imdb\n",
    "from tensorflow.keras.preprocessing import sequence\n",
    "from tensorflow.keras.models import load_model"
   ]
  },
  {
   "cell_type": "code",
   "execution_count": 2,
   "metadata": {},
   "outputs": [],
   "source": [
    "# Load the IMDB dataset word index\n",
    "word_index = imdb.get_word_index()\n",
    "reverse_word_index = {value: key for key, value in word_index.items()}"
   ]
  },
  {
   "cell_type": "code",
   "execution_count": 4,
   "metadata": {},
   "outputs": [
    {
     "name": "stderr",
     "output_type": "stream",
     "text": [
      "WARNING:absl:Compiled the loaded model, but the compiled metrics have yet to be built. `model.compile_metrics` will be empty until you train or evaluate the model.\n"
     ]
    },
    {
     "data": {
      "text/html": [
       "<pre style=\"white-space:pre;overflow-x:auto;line-height:normal;font-family:Menlo,'DejaVu Sans Mono',consolas,'Courier New',monospace\"><span style=\"font-weight: bold\">Model: \"sequential\"</span>\n",
       "</pre>\n"
      ],
      "text/plain": [
       "\u001b[1mModel: \"sequential\"\u001b[0m\n"
      ]
     },
     "metadata": {},
     "output_type": "display_data"
    },
    {
     "data": {
      "text/html": [
       "<pre style=\"white-space:pre;overflow-x:auto;line-height:normal;font-family:Menlo,'DejaVu Sans Mono',consolas,'Courier New',monospace\">┏━━━━━━━━━━━━━━━━━━━━━━━━━━━━━━━━━┳━━━━━━━━━━━━━━━━━━━━━━━━┳━━━━━━━━━━━━━━━┓\n",
       "┃<span style=\"font-weight: bold\"> Layer (type)                    </span>┃<span style=\"font-weight: bold\"> Output Shape           </span>┃<span style=\"font-weight: bold\">       Param # </span>┃\n",
       "┡━━━━━━━━━━━━━━━━━━━━━━━━━━━━━━━━━╇━━━━━━━━━━━━━━━━━━━━━━━━╇━━━━━━━━━━━━━━━┩\n",
       "│ embedding (<span style=\"color: #0087ff; text-decoration-color: #0087ff\">Embedding</span>)           │ (<span style=\"color: #00af00; text-decoration-color: #00af00\">32</span>, <span style=\"color: #00af00; text-decoration-color: #00af00\">500</span>, <span style=\"color: #00af00; text-decoration-color: #00af00\">128</span>)         │     <span style=\"color: #00af00; text-decoration-color: #00af00\">1,280,000</span> │\n",
       "├─────────────────────────────────┼────────────────────────┼───────────────┤\n",
       "│ simple_rnn (<span style=\"color: #0087ff; text-decoration-color: #0087ff\">SimpleRNN</span>)          │ (<span style=\"color: #00af00; text-decoration-color: #00af00\">32</span>, <span style=\"color: #00af00; text-decoration-color: #00af00\">128</span>)              │        <span style=\"color: #00af00; text-decoration-color: #00af00\">32,896</span> │\n",
       "├─────────────────────────────────┼────────────────────────┼───────────────┤\n",
       "│ dense (<span style=\"color: #0087ff; text-decoration-color: #0087ff\">Dense</span>)                   │ (<span style=\"color: #00af00; text-decoration-color: #00af00\">32</span>, <span style=\"color: #00af00; text-decoration-color: #00af00\">1</span>)                │           <span style=\"color: #00af00; text-decoration-color: #00af00\">129</span> │\n",
       "└─────────────────────────────────┴────────────────────────┴───────────────┘\n",
       "</pre>\n"
      ],
      "text/plain": [
       "┏━━━━━━━━━━━━━━━━━━━━━━━━━━━━━━━━━┳━━━━━━━━━━━━━━━━━━━━━━━━┳━━━━━━━━━━━━━━━┓\n",
       "┃\u001b[1m \u001b[0m\u001b[1mLayer (type)                   \u001b[0m\u001b[1m \u001b[0m┃\u001b[1m \u001b[0m\u001b[1mOutput Shape          \u001b[0m\u001b[1m \u001b[0m┃\u001b[1m \u001b[0m\u001b[1m      Param #\u001b[0m\u001b[1m \u001b[0m┃\n",
       "┡━━━━━━━━━━━━━━━━━━━━━━━━━━━━━━━━━╇━━━━━━━━━━━━━━━━━━━━━━━━╇━━━━━━━━━━━━━━━┩\n",
       "│ embedding (\u001b[38;5;33mEmbedding\u001b[0m)           │ (\u001b[38;5;34m32\u001b[0m, \u001b[38;5;34m500\u001b[0m, \u001b[38;5;34m128\u001b[0m)         │     \u001b[38;5;34m1,280,000\u001b[0m │\n",
       "├─────────────────────────────────┼────────────────────────┼───────────────┤\n",
       "│ simple_rnn (\u001b[38;5;33mSimpleRNN\u001b[0m)          │ (\u001b[38;5;34m32\u001b[0m, \u001b[38;5;34m128\u001b[0m)              │        \u001b[38;5;34m32,896\u001b[0m │\n",
       "├─────────────────────────────────┼────────────────────────┼───────────────┤\n",
       "│ dense (\u001b[38;5;33mDense\u001b[0m)                   │ (\u001b[38;5;34m32\u001b[0m, \u001b[38;5;34m1\u001b[0m)                │           \u001b[38;5;34m129\u001b[0m │\n",
       "└─────────────────────────────────┴────────────────────────┴───────────────┘\n"
      ]
     },
     "metadata": {},
     "output_type": "display_data"
    },
    {
     "data": {
      "text/html": [
       "<pre style=\"white-space:pre;overflow-x:auto;line-height:normal;font-family:Menlo,'DejaVu Sans Mono',consolas,'Courier New',monospace\"><span style=\"font-weight: bold\"> Total params: </span><span style=\"color: #00af00; text-decoration-color: #00af00\">1,313,027</span> (5.01 MB)\n",
       "</pre>\n"
      ],
      "text/plain": [
       "\u001b[1m Total params: \u001b[0m\u001b[38;5;34m1,313,027\u001b[0m (5.01 MB)\n"
      ]
     },
     "metadata": {},
     "output_type": "display_data"
    },
    {
     "data": {
      "text/html": [
       "<pre style=\"white-space:pre;overflow-x:auto;line-height:normal;font-family:Menlo,'DejaVu Sans Mono',consolas,'Courier New',monospace\"><span style=\"font-weight: bold\"> Trainable params: </span><span style=\"color: #00af00; text-decoration-color: #00af00\">1,313,025</span> (5.01 MB)\n",
       "</pre>\n"
      ],
      "text/plain": [
       "\u001b[1m Trainable params: \u001b[0m\u001b[38;5;34m1,313,025\u001b[0m (5.01 MB)\n"
      ]
     },
     "metadata": {},
     "output_type": "display_data"
    },
    {
     "data": {
      "text/html": [
       "<pre style=\"white-space:pre;overflow-x:auto;line-height:normal;font-family:Menlo,'DejaVu Sans Mono',consolas,'Courier New',monospace\"><span style=\"font-weight: bold\"> Non-trainable params: </span><span style=\"color: #00af00; text-decoration-color: #00af00\">0</span> (0.00 B)\n",
       "</pre>\n"
      ],
      "text/plain": [
       "\u001b[1m Non-trainable params: \u001b[0m\u001b[38;5;34m0\u001b[0m (0.00 B)\n"
      ]
     },
     "metadata": {},
     "output_type": "display_data"
    },
    {
     "data": {
      "text/html": [
       "<pre style=\"white-space:pre;overflow-x:auto;line-height:normal;font-family:Menlo,'DejaVu Sans Mono',consolas,'Courier New',monospace\"><span style=\"font-weight: bold\"> Optimizer params: </span><span style=\"color: #00af00; text-decoration-color: #00af00\">2</span> (12.00 B)\n",
       "</pre>\n"
      ],
      "text/plain": [
       "\u001b[1m Optimizer params: \u001b[0m\u001b[38;5;34m2\u001b[0m (12.00 B)\n"
      ]
     },
     "metadata": {},
     "output_type": "display_data"
    }
   ],
   "source": [
    "# Load the pre-trained model with ReLU activation\n",
    "model = load_model('simple_rnn_imdb.h5')\n",
    "model.summary()"
   ]
  },
  {
   "cell_type": "code",
   "execution_count": 5,
   "metadata": {},
   "outputs": [
    {
     "data": {
      "text/plain": [
       "[array([[-0.3073441 ,  0.0892728 ,  0.1607965 , ...,  0.46442   ,\n",
       "          0.11622837, -0.12585852],\n",
       "        [-0.1436708 ,  0.08574176,  0.13816203, ...,  0.1081574 ,\n",
       "         -0.00411281, -0.07433441],\n",
       "        [-0.0845041 ,  0.04158262, -0.00733207, ...,  0.04824367,\n",
       "         -0.04520372,  0.05870967],\n",
       "        ...,\n",
       "        [ 0.06169106, -0.06585864, -0.08364394, ..., -0.06670985,\n",
       "          0.08310018, -0.01800358],\n",
       "        [-0.05068926,  0.0510397 , -0.00104734, ..., -0.02005582,\n",
       "         -0.06086588,  0.02536789],\n",
       "        [ 0.06011367, -0.03600274, -0.08143654, ..., -0.05394688,\n",
       "          0.06203763, -0.07745042]], dtype=float32),\n",
       " array([[ 0.08680595,  0.00110561,  0.12912698, ...,  0.02481663,\n",
       "         -0.1171696 , -0.14981823],\n",
       "        [-0.06881298,  0.17348395, -0.09859394, ..., -0.07906233,\n",
       "         -0.00651228,  0.04843601],\n",
       "        [-0.02974567,  0.03218729,  0.03334405, ...,  0.03499382,\n",
       "          0.04332241,  0.0624556 ],\n",
       "        ...,\n",
       "        [ 0.11975729, -0.02326774,  0.03289405, ..., -0.17912643,\n",
       "          0.1084651 , -0.08460054],\n",
       "        [ 0.05651082, -0.13121526,  0.10248227, ...,  0.12022143,\n",
       "          0.12543687,  0.12744704],\n",
       "        [ 0.15419887, -0.14556906, -0.18638945, ..., -0.04952527,\n",
       "         -0.08201547, -0.144399  ]], dtype=float32),\n",
       " array([[ 0.09224913,  0.1713233 ,  0.04077451, ..., -0.1692562 ,\n",
       "         -0.01386027,  0.26292923],\n",
       "        [ 0.13915184,  0.02705139,  0.14616778, ..., -0.04448522,\n",
       "         -0.02655122, -0.0181607 ],\n",
       "        [ 0.00834122, -0.1000379 , -0.02137651, ...,  0.08665919,\n",
       "          0.18094552, -0.11739319],\n",
       "        ...,\n",
       "        [ 0.06380978,  0.09546988,  0.10748629, ..., -0.085585  ,\n",
       "         -0.15756321, -0.13889751],\n",
       "        [ 0.06822354, -0.03725735, -0.02151299, ...,  0.04710306,\n",
       "          0.04169462,  0.08752763],\n",
       "        [ 0.03721846, -0.08665875, -0.00336394, ...,  0.11175518,\n",
       "         -0.03771008, -0.1642291 ]], dtype=float32),\n",
       " array([-0.00493152,  0.03841647, -0.01526042,  0.01129598, -0.00038027,\n",
       "         0.006851  , -0.01674169, -0.01550025, -0.03208558, -0.02097702,\n",
       "        -0.02002021, -0.0032207 ,  0.03400058, -0.01747555, -0.00496922,\n",
       "        -0.01006776,  0.04211169, -0.02181623, -0.00456429, -0.02704031,\n",
       "        -0.0071813 , -0.00027784,  0.01693453, -0.00042119, -0.0062307 ,\n",
       "         0.00089611,  0.00501876, -0.00889958, -0.03019362,  0.01969133,\n",
       "        -0.02696415, -0.01548212, -0.01014321, -0.01547492, -0.0043701 ,\n",
       "        -0.01029308, -0.06361527, -0.0047854 , -0.0035324 , -0.01939259,\n",
       "        -0.02072183,  0.00855305, -0.00410595,  0.01330729, -0.00052426,\n",
       "         0.03261791,  0.01141237, -0.03443699, -0.02601802, -0.02359256,\n",
       "        -0.02513747, -0.01540134, -0.00927128, -0.02981575, -0.05490049,\n",
       "        -0.02496811, -0.04620614, -0.0044271 ,  0.07299172, -0.0057648 ,\n",
       "         0.00176035,  0.03648431, -0.00790864,  0.01368266,  0.00396216,\n",
       "        -0.00061678, -0.01948261,  0.00801514, -0.02842679, -0.01759556,\n",
       "         0.00151128, -0.0299973 , -0.01235428, -0.01437634,  0.03562203,\n",
       "         0.02740014,  0.05911485, -0.00998107, -0.03275371, -0.01868953,\n",
       "         0.00219561, -0.01799809,  0.0009029 , -0.01740873, -0.01012237,\n",
       "         0.00117566, -0.01820109,  0.01293309, -0.0055586 , -0.01263978,\n",
       "        -0.01837735, -0.01998309,  0.0029898 , -0.02086143, -0.01193411,\n",
       "        -0.00154852,  0.03032362,  0.01967303, -0.00702481, -0.03323962,\n",
       "         0.01068595, -0.01123435,  0.02593043,  0.04069598, -0.02213758,\n",
       "        -0.00962736,  0.00990687,  0.00703364, -0.0060546 , -0.01268541,\n",
       "        -0.00820619, -0.03438686, -0.01558183,  0.02113125, -0.01813146,\n",
       "        -0.00879636, -0.0138635 , -0.01146036, -0.0419534 , -0.01690778,\n",
       "        -0.00209935, -0.01452604, -0.03072657,  0.01196748, -0.01330721,\n",
       "        -0.01485892, -0.02404127, -0.00548905], dtype=float32),\n",
       " array([[ 0.3049267 ],\n",
       "        [-0.22569588],\n",
       "        [ 0.24387237],\n",
       "        [ 0.28798208],\n",
       "        [-0.30710322],\n",
       "        [-0.04936032],\n",
       "        [ 0.21570939],\n",
       "        [-0.17252634],\n",
       "        [ 0.06987263],\n",
       "        [ 0.12994131],\n",
       "        [-0.25622103],\n",
       "        [ 0.19530894],\n",
       "        [ 0.03897097],\n",
       "        [ 0.27177125],\n",
       "        [-0.16811027],\n",
       "        [ 0.17685907],\n",
       "        [ 0.34419557],\n",
       "        [ 0.37843162],\n",
       "        [ 0.1511527 ],\n",
       "        [-0.18356033],\n",
       "        [ 0.198351  ],\n",
       "        [ 0.09725975],\n",
       "        [-0.3454855 ],\n",
       "        [-0.17490993],\n",
       "        [ 0.17406106],\n",
       "        [ 0.03413911],\n",
       "        [ 0.10852697],\n",
       "        [ 0.26771975],\n",
       "        [-0.31816912],\n",
       "        [ 0.16172884],\n",
       "        [ 0.10431363],\n",
       "        [ 0.12323752],\n",
       "        [ 0.11083107],\n",
       "        [-0.10120548],\n",
       "        [ 0.25631133],\n",
       "        [ 0.07035416],\n",
       "        [-0.11280465],\n",
       "        [ 0.04474875],\n",
       "        [-0.05184797],\n",
       "        [ 0.26398203],\n",
       "        [ 0.30879042],\n",
       "        [-0.20327644],\n",
       "        [-0.23313117],\n",
       "        [ 0.33308354],\n",
       "        [ 0.18339236],\n",
       "        [-0.08361135],\n",
       "        [ 0.6043253 ],\n",
       "        [-0.26041812],\n",
       "        [ 0.09897848],\n",
       "        [ 0.22182871],\n",
       "        [ 0.20835337],\n",
       "        [ 0.10823599],\n",
       "        [ 0.1314664 ],\n",
       "        [-0.07117795],\n",
       "        [-0.05556285],\n",
       "        [ 0.08067716],\n",
       "        [-0.00123786],\n",
       "        [-0.16259462],\n",
       "        [ 0.17547245],\n",
       "        [ 0.19109112],\n",
       "        [-0.00630945],\n",
       "        [-0.16778792],\n",
       "        [ 0.06061718],\n",
       "        [-0.2189621 ],\n",
       "        [-0.04819158],\n",
       "        [-0.2059284 ],\n",
       "        [ 0.04274574],\n",
       "        [-0.21859333],\n",
       "        [-0.2732681 ],\n",
       "        [ 0.15363148],\n",
       "        [ 0.02961791],\n",
       "        [ 0.18764141],\n",
       "        [ 0.23528665],\n",
       "        [ 0.23550482],\n",
       "        [ 0.27833557],\n",
       "        [-0.22912435],\n",
       "        [-0.01827663],\n",
       "        [ 0.25172913],\n",
       "        [ 0.24618512],\n",
       "        [-0.0249773 ],\n",
       "        [ 0.29532528],\n",
       "        [ 0.26620185],\n",
       "        [ 0.21903713],\n",
       "        [ 0.02514224],\n",
       "        [-0.05063959],\n",
       "        [ 0.16830501],\n",
       "        [ 0.12562339],\n",
       "        [-0.24397904],\n",
       "        [ 0.31593317],\n",
       "        [-0.23909809],\n",
       "        [ 0.0081453 ],\n",
       "        [-0.10144302],\n",
       "        [ 0.32781094],\n",
       "        [ 0.15467644],\n",
       "        [ 0.30238178],\n",
       "        [-0.20471324],\n",
       "        [-0.21394944],\n",
       "        [-0.19443378],\n",
       "        [-0.12774488],\n",
       "        [-0.02239231],\n",
       "        [-0.23874995],\n",
       "        [ 0.15641338],\n",
       "        [-0.07807853],\n",
       "        [-0.15293196],\n",
       "        [ 0.20908964],\n",
       "        [ 0.2220684 ],\n",
       "        [-0.01648441],\n",
       "        [ 0.15335973],\n",
       "        [ 0.00956169],\n",
       "        [ 0.13469088],\n",
       "        [-0.00468268],\n",
       "        [ 0.10448578],\n",
       "        [-0.09085508],\n",
       "        [-0.05446756],\n",
       "        [-0.07353994],\n",
       "        [ 0.02378375],\n",
       "        [-0.40496072],\n",
       "        [ 0.01430605],\n",
       "        [ 0.03248693],\n",
       "        [-0.01811324],\n",
       "        [-0.2610344 ],\n",
       "        [-0.15593863],\n",
       "        [ 0.06813674],\n",
       "        [-0.17279345],\n",
       "        [ 0.1583641 ],\n",
       "        [ 0.1590285 ],\n",
       "        [ 0.06538621],\n",
       "        [-0.27479136]], dtype=float32),\n",
       " array([0.1144932], dtype=float32)]"
      ]
     },
     "execution_count": 5,
     "metadata": {},
     "output_type": "execute_result"
    }
   ],
   "source": [
    "model.get_weights()"
   ]
  },
  {
   "cell_type": "code",
   "execution_count": 6,
   "metadata": {},
   "outputs": [],
   "source": [
    "# Step 2: Helper Functions\n",
    "# Function to decode reviews\n",
    "def decode_review(encoded_review):\n",
    "    return ' '.join([reverse_word_index.get(i - 3, '?') for i in encoded_review])\n",
    "\n",
    "# Function to preprocess user input\n",
    "def preprocess_text(text):\n",
    "    words = text.lower().split()\n",
    "    encoded_review = [word_index.get(word, 2) + 3 for word in words]\n",
    "    padded_review = sequence.pad_sequences([encoded_review], maxlen=500)\n",
    "    return padded_review"
   ]
  },
  {
   "cell_type": "code",
   "execution_count": 7,
   "metadata": {},
   "outputs": [],
   "source": [
    "### Prediction  function\n",
    "\n",
    "def predict_sentiment(review):\n",
    "    preprocessed_input=preprocess_text(review)\n",
    "\n",
    "    prediction=model.predict(preprocessed_input)\n",
    "\n",
    "    sentiment = 'Positive' if prediction[0][0] > 0.5 else 'Negative'\n",
    "    \n",
    "    return sentiment, prediction[0][0]"
   ]
  },
  {
   "cell_type": "code",
   "execution_count": 8,
   "metadata": {},
   "outputs": [
    {
     "name": "stdout",
     "output_type": "stream",
     "text": [
      "\u001b[1m1/1\u001b[0m \u001b[32m━━━━━━━━━━━━━━━━━━━━\u001b[0m\u001b[37m\u001b[0m \u001b[1m0s\u001b[0m 326ms/step\n",
      "Review: This movie was fantastic! The acting was great and the plot was thrilling.\n",
      "Sentiment: Positive\n",
      "Prediction Score: 0.7531569004058838\n"
     ]
    }
   ],
   "source": [
    "# Step 4: User Input and Prediction\n",
    "# Example review for prediction\n",
    "example_review = \"This movie was fantastic! The acting was great and the plot was thrilling.\"\n",
    "\n",
    "sentiment,score=predict_sentiment(example_review)\n",
    "\n",
    "print(f'Review: {example_review}')\n",
    "print(f'Sentiment: {sentiment}')\n",
    "print(f'Prediction Score: {score}')"
   ]
  }
 ],
 "metadata": {
  "kernelspec": {
   "display_name": "base",
   "language": "python",
   "name": "python3"
  },
  "language_info": {
   "codemirror_mode": {
    "name": "ipython",
    "version": 3
   },
   "file_extension": ".py",
   "mimetype": "text/x-python",
   "name": "python",
   "nbconvert_exporter": "python",
   "pygments_lexer": "ipython3",
   "version": "3.12.3"
  }
 },
 "nbformat": 4,
 "nbformat_minor": 2
}
